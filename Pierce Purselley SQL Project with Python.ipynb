{
 "cells": [
  {
   "cell_type": "code",
   "execution_count": 2,
   "metadata": {},
   "outputs": [],
   "source": [
    "import mysql.connector"
   ]
  },
  {
   "cell_type": "code",
   "execution_count": 4,
   "metadata": {},
   "outputs": [],
   "source": [
    "#db = mysql.connector.connect(auth_plugin=\"\", user=\"\", password=\"\")"
   ]
  },
  {
   "cell_type": "markdown",
   "metadata": {},
   "source": [
    "## Q1: Some of the facilities charge a fee to members, but some do not.  Please list the names of the facilities that do. "
   ]
  },
  {
   "cell_type": "code",
   "execution_count": null,
   "metadata": {},
   "outputs": [],
   "source": [
    "SELECT * FROM Facilities WHERE membercost > 0;"
   ]
  },
  {
   "cell_type": "markdown",
   "metadata": {},
   "source": [
    "## Q2: How many facilities do not charge a fee to members?"
   ]
  },
  {
   "cell_type": "code",
   "execution_count": null,
   "metadata": {},
   "outputs": [],
   "source": [
    "SELECT COUNT(*) FROM Facilities WHERE membercost = 0;"
   ]
  },
  {
   "cell_type": "markdown",
   "metadata": {},
   "source": [
    "## Q3: How can you produce a list of facilities that charge a fee to members, where the fee is less than 20% of the facility's monthly maintenance cost? Return the facid, facility name, member cost, and monthly maintenance of the facilities in question."
   ]
  },
  {
   "cell_type": "code",
   "execution_count": null,
   "metadata": {},
   "outputs": [],
   "source": [
    "SELECT facid, name, membercost, monthlymaintenance FROM Facilities WHERE (membercost > 0) AND (membercost < 0.2 * monthlymaintenance);"
   ]
  },
  {
   "cell_type": "markdown",
   "metadata": {},
   "source": [
    "## Q4: How can you retrieve the details of facilities with ID 1 and 5? Write the query without using the OR operator."
   ]
  },
  {
   "cell_type": "code",
   "execution_count": null,
   "metadata": {},
   "outputs": [],
   "source": [
    "SELECT * FROM Facilities WHERE facid = 1 UNION SELECT * FROM Facilities WHERE facid = 5;"
   ]
  },
  {
   "cell_type": "markdown",
   "metadata": {},
   "source": [
    "## Q5: How can you produce a list of facilities, with each labelled as 'cheap' or 'expensive', depending on if their monthly maintenance cost is more than 100? Return the name and monthly maintenance of the facilities in question."
   ]
  },
  {
   "cell_type": "code",
   "execution_count": null,
   "metadata": {},
   "outputs": [],
   "source": [
    "SELECT name, monthlymaintenance, CASE WHEN monthlymaintenance >100 THEN  'expensive' ELSE  'cheap' END AS TYPE FROM Facilities;"
   ]
  },
  {
   "cell_type": "markdown",
   "metadata": {},
   "source": [
    "## Q6: You'd like to get the first and last name of the last member(s) who signed up. Do not use the LIMIT clause for your solution. "
   ]
  },
  {
   "cell_type": "code",
   "execution_count": null,
   "metadata": {},
   "outputs": [],
   "source": [
    "SELECT firstname, surname, MAX(joindate) FROM Members WHERE surname != 'GUEST';"
   ]
  },
  {
   "cell_type": "markdown",
   "metadata": {},
   "source": [
    "## Q7: How can you produce a list of all members who have used a tennis court? Include in your output the name of the court, and the name of the member formatted as a single column. Ensure no duplicate data, and order by the member name."
   ]
  },
  {
   "cell_type": "code",
   "execution_count": null,
   "metadata": {},
   "outputs": [],
   "source": [
    "SELECT DISTINCT CONCAT(members.firstname, ' ', members.surname) AS full_name \\\n",
    "                FROM country_club.Members members \\\n",
    "                JOIN (SELECT bookings.facid, bookings.memid FROM country_club.Bookings bookings \\\n",
    "                JOIN country_club.Facilities facilities \\\n",
    "                ON bookings.facid = facilities.facid AND facilities.name LIKE '%Tennis Court%') sub \\\n",
    "                ON members.memid = sub.memid AND members.firstname NOT LIKE 'GUEST%' ORDER BY 1"
   ]
  },
  {
   "cell_type": "markdown",
   "metadata": {},
   "source": [
    "## Q8: How can you produce a list of bookings on the day of 2012-09-14 which will cost the member (or guest) more than 30? Remember that guests have different costs to members (the listed costs are per half-hour 'slot'), and the guest user's ID is always 0. Include in your output the name of the facility, the name of the member formatted as a single column, and the cost. Order by descending cost, and do not use any subqueries. "
   ]
  },
  {
   "cell_type": "code",
   "execution_count": null,
   "metadata": {},
   "outputs": [],
   "source": [
    "SELECT facilities.name, CONCAT(members.firstname,  ' ', members.surname) as full_name,\\\n",
    "                CASE WHEN bookings.memid = 0 THEN facilities.guestcost * bookings.slots \\\n",
    "                     ELSE facilities.membercost * slots END AS cost \\\n",
    "                FROM country_club.Bookings bookings \\\n",
    "                JOIN country_club.Members members \\\n",
    "                ON bookings.memid = members.memid AND DATE(bookings.starttime) = '2012-09-14' \\\n",
    "                JOIN country_club.Facilities facilities \\\n",
    "                ON bookings.facid = facilities.facid HAVING cost > 30 ORDER BY 3 DESC"
   ]
  },
  {
   "cell_type": "markdown",
   "metadata": {},
   "source": [
    "## Q9: This time, produce the same result as in Q8, but using a subquery."
   ]
  },
  {
   "cell_type": "code",
   "execution_count": null,
   "metadata": {},
   "outputs": [],
   "source": [
    "SELECT sub.fac_name, sub.full_name, sub.cost \\\n",
    "FROM (SELECT facilities.name AS fac_name, CONCAT(members.firstname,  ' ', members.surname) AS full_name, \\\n",
    "             CASE WHEN bookings.memid = 0 THEN facilities.guestcost * bookings.slots \\\n",
    "             ELSE facilities.membercost * slots END AS cost \\\n",
    "      FROM country_club.Bookings bookings \\\n",
    "      JOIN country_club.Members members ON bookings.memid = members.memid AND DATE(bookings.starttime) = '2012-09-14' \\\n",
    "      JOIN country_club.Facilities facilities ON bookings.facid = facilities.facid) sub \\\n",
    "      WHERE sub.cost > 30 \\\n",
    "      ORDER BY 3 DESC"
   ]
  },
  {
   "cell_type": "markdown",
   "metadata": {},
   "source": [
    "## Q10: Produce a list of facilities with a total revenue less than 1000. The output of facility name and total revenue, sorted by revenue. Remember that there's a different cost for guests and members! "
   ]
  },
  {
   "cell_type": "code",
   "execution_count": null,
   "metadata": {},
   "outputs": [],
   "source": [
    "SELECT facilities.name, \\\n",
    "                SUM(CASE WHEN bookings.memid = 0 THEN facilities.guestcost * bookings.slots \\\n",
    "                         ELSE facilities.membercost * bookings.slots END) AS total_revenue \\\n",
    "                FROM country_club.Facilities facilities \\\n",
    "                JOIN country_club.Bookings bookings \\\n",
    "                ON facilities.facid = bookings.facid \\\n",
    "                GROUP BY 1 HAVING total_revenue <1000 ORDER BY 2"
   ]
  }
 ],
 "metadata": {
  "kernelspec": {
   "display_name": "Python 3",
   "language": "python",
   "name": "python3"
  },
  "language_info": {
   "codemirror_mode": {
    "name": "ipython",
    "version": 3
   },
   "file_extension": ".py",
   "mimetype": "text/x-python",
   "name": "python",
   "nbconvert_exporter": "python",
   "pygments_lexer": "ipython3",
   "version": "3.6.5"
  }
 },
 "nbformat": 4,
 "nbformat_minor": 2
}
